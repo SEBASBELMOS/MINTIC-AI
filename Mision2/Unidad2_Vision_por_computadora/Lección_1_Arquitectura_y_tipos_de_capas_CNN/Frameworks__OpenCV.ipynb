{
  "nbformat": 4,
  "nbformat_minor": 0,
  "metadata": {
    "colab": {
      "provenance": []
    },
    "kernelspec": {
      "name": "python3",
      "display_name": "Python 3"
    },
    "language_info": {
      "name": "python"
    }
  },
  "cells": [
    {
      "cell_type": "code",
      "execution_count": 6,
      "metadata": {
        "colab": {
          "base_uri": "https://localhost:8080/"
        },
        "id": "pkDkZdZokrrW",
        "outputId": "c2bda01c-06a2-4a71-e356-b5bcfcd8b597"
      },
      "outputs": [
        {
          "output_type": "stream",
          "name": "stdout",
          "text": [
            "Requirement already satisfied: opencv-python in /usr/local/lib/python3.10/dist-packages (4.8.0.76)\n",
            "Requirement already satisfied: numpy>=1.21.2 in /usr/local/lib/python3.10/dist-packages (from opencv-python) (1.25.2)\n"
          ]
        }
      ],
      "source": [
        "!pip install opencv-python\n",
        "# !conda install -c conda-forge opencv"
      ]
    },
    {
      "cell_type": "markdown",
      "source": [
        "## 1. Cargando y mostrando una imagen"
      ],
      "metadata": {
        "id": "DVssiXzzmdCv"
      }
    },
    {
      "cell_type": "code",
      "source": [
        "import cv2\n",
        "\n",
        "# Cargar una imagen desde el archivo\n",
        "image = cv2.imread('/content/images.jpg')\n",
        "\n",
        "# Mostrar la image en una ventana\n",
        "cv2.imshow('Imagen', image)\n",
        "\n",
        "# Esperar a que el ususario presione una tecla para cerrar la ventana\n",
        "cv2.waitKey(0)\n",
        "\n",
        "# Cerrar todas las ventanas abiertas\n",
        "cv2.destryAllWindows()"
      ],
      "metadata": {
        "id": "h3wM_GK4lcOR",
        "colab": {
          "base_uri": "https://localhost:8080/",
          "height": 418
        },
        "outputId": "12037f0f-efe1-45fc-980c-64349fb2412c"
      },
      "execution_count": 7,
      "outputs": [
        {
          "output_type": "error",
          "ename": "DisabledFunctionError",
          "evalue": "cv2.imshow() is disabled in Colab, because it causes Jupyter sessions\nto crash; see https://github.com/jupyter/notebook/issues/3935.\nAs a substitution, consider using\n  from google.colab.patches import cv2_imshow\n",
          "traceback": [
            "\u001b[0;31m---------------------------------------------------------------------------\u001b[0m",
            "\u001b[0;31mDisabledFunctionError\u001b[0m                     Traceback (most recent call last)",
            "\u001b[0;32m<ipython-input-7-85b6c192e7e1>\u001b[0m in \u001b[0;36m<cell line: 7>\u001b[0;34m()\u001b[0m\n\u001b[1;32m      5\u001b[0m \u001b[0;34m\u001b[0m\u001b[0m\n\u001b[1;32m      6\u001b[0m \u001b[0;31m# Mostrar la image en una ventana\u001b[0m\u001b[0;34m\u001b[0m\u001b[0;34m\u001b[0m\u001b[0m\n\u001b[0;32m----> 7\u001b[0;31m \u001b[0mcv2\u001b[0m\u001b[0;34m.\u001b[0m\u001b[0mimshow\u001b[0m\u001b[0;34m(\u001b[0m\u001b[0;34m'Imagen'\u001b[0m\u001b[0;34m,\u001b[0m \u001b[0mimage\u001b[0m\u001b[0;34m)\u001b[0m\u001b[0;34m\u001b[0m\u001b[0;34m\u001b[0m\u001b[0m\n\u001b[0m\u001b[1;32m      8\u001b[0m \u001b[0;34m\u001b[0m\u001b[0m\n\u001b[1;32m      9\u001b[0m \u001b[0;31m# Esperar a que el ususario presione una tecla para cerrar la ventana\u001b[0m\u001b[0;34m\u001b[0m\u001b[0;34m\u001b[0m\u001b[0m\n",
            "\u001b[0;32m/usr/local/lib/python3.10/dist-packages/google/colab/_import_hooks/_cv2.py\u001b[0m in \u001b[0;36mwrapped\u001b[0;34m(*args, **kwargs)\u001b[0m\n\u001b[1;32m     46\u001b[0m   \u001b[0;32mdef\u001b[0m \u001b[0mwrapped\u001b[0m\u001b[0;34m(\u001b[0m\u001b[0;34m*\u001b[0m\u001b[0margs\u001b[0m\u001b[0;34m,\u001b[0m \u001b[0;34m**\u001b[0m\u001b[0mkwargs\u001b[0m\u001b[0;34m)\u001b[0m\u001b[0;34m:\u001b[0m\u001b[0;34m\u001b[0m\u001b[0;34m\u001b[0m\u001b[0m\n\u001b[1;32m     47\u001b[0m     \u001b[0;32mif\u001b[0m \u001b[0;32mnot\u001b[0m \u001b[0mos\u001b[0m\u001b[0;34m.\u001b[0m\u001b[0menviron\u001b[0m\u001b[0;34m.\u001b[0m\u001b[0mget\u001b[0m\u001b[0;34m(\u001b[0m\u001b[0menv_var\u001b[0m\u001b[0;34m,\u001b[0m \u001b[0;32mFalse\u001b[0m\u001b[0;34m)\u001b[0m\u001b[0;34m:\u001b[0m\u001b[0;34m\u001b[0m\u001b[0;34m\u001b[0m\u001b[0m\n\u001b[0;32m---> 48\u001b[0;31m       \u001b[0;32mraise\u001b[0m \u001b[0mDisabledFunctionError\u001b[0m\u001b[0;34m(\u001b[0m\u001b[0mmessage\u001b[0m\u001b[0;34m,\u001b[0m \u001b[0mname\u001b[0m \u001b[0;32mor\u001b[0m \u001b[0mfunc\u001b[0m\u001b[0;34m.\u001b[0m\u001b[0m__name__\u001b[0m\u001b[0;34m)\u001b[0m\u001b[0;34m\u001b[0m\u001b[0;34m\u001b[0m\u001b[0m\n\u001b[0m\u001b[1;32m     49\u001b[0m     \u001b[0;32mreturn\u001b[0m \u001b[0mfunc\u001b[0m\u001b[0;34m(\u001b[0m\u001b[0;34m*\u001b[0m\u001b[0margs\u001b[0m\u001b[0;34m,\u001b[0m \u001b[0;34m**\u001b[0m\u001b[0mkwargs\u001b[0m\u001b[0;34m)\u001b[0m\u001b[0;34m\u001b[0m\u001b[0;34m\u001b[0m\u001b[0m\n\u001b[1;32m     50\u001b[0m \u001b[0;34m\u001b[0m\u001b[0m\n",
            "\u001b[0;31mDisabledFunctionError\u001b[0m: cv2.imshow() is disabled in Colab, because it causes Jupyter sessions\nto crash; see https://github.com/jupyter/notebook/issues/3935.\nAs a substitution, consider using\n  from google.colab.patches import cv2_imshow\n"
          ],
          "errorDetails": {
            "actions": [
              {
                "action": "open_snippet",
                "actionText": "Search Snippets for cv2.imshow",
                "snippetFilter": "cv2.imshow"
              }
            ]
          }
        }
      ]
    },
    {
      "cell_type": "markdown",
      "source": [
        "## 2. Transformaciones geométricas\n",
        "\n",
        "  * Rotación"
      ],
      "metadata": {
        "id": "E6VQZ-dgmlF4"
      }
    },
    {
      "cell_type": "code",
      "source": [
        "import cv2\n",
        "import numpy as np\n",
        "\n",
        "# Carga la imagen\n",
        "image = cv2.imread('/content/images.jpg')\n",
        "\n",
        "# Obtener dimensiones de la imagen\n",
        "height, width = image.shape[:2]\n",
        "\n",
        "# Calcular el centro de la imagen\n",
        "center = (width/2, height/2)\n",
        "\n",
        "# Definir la matriz de rotación\n",
        "angle = 45\n",
        "M = cv2.getRotationMatrix2D(center, angle, 1.0)\n",
        "\n",
        "# Aplicar la rotación a la imagen\n",
        "rotated = cv2.warpAffine(image, M, (width, height))\n",
        "\n",
        "# Mostrar la imagen rotada\n",
        "cv2.imshow('Rotada', rotated)\n",
        "cv2.waitKey(0)\n",
        "cv2.destroyAllWindows()"
      ],
      "metadata": {
        "id": "xiXEFlsrmZFL"
      },
      "execution_count": null,
      "outputs": []
    },
    {
      "cell_type": "markdown",
      "source": [
        "  * Traslación"
      ],
      "metadata": {
        "id": "wT5RLvhGoKqJ"
      }
    },
    {
      "cell_type": "code",
      "source": [
        "import cv2\n",
        "import numpy as np\n",
        "\n",
        "# Cargar la imagen\n",
        "image = cv2.imread('/content/images.jpg')\n",
        "\n",
        "# Definir la matriz de traslación\n",
        "tx, ty = 100, 50\n",
        "M = np.float32([[1,0, tx], [0, 1, ty]])\n",
        "\n",
        "# Aplicar la traslación a la imagen\n",
        "translated = cv2.warpAffine(image, M, (image.shape[1], image.shape[0]))\n",
        "\n",
        "# Mostrar la imagen trasladada\n",
        "cv2.imshow('Traslación', translated)\n",
        "cv2.waitKey(0)\n",
        "cv2.destryAllWindows()"
      ],
      "metadata": {
        "id": "1NWs9ix-op6k"
      },
      "execution_count": null,
      "outputs": []
    },
    {
      "cell_type": "markdown",
      "source": [
        "  * Escalamiento"
      ],
      "metadata": {
        "id": "LZV23rIFpcjY"
      }
    },
    {
      "cell_type": "code",
      "source": [
        "import cv2\n",
        "\n",
        "# Cargar la imagen\n",
        "image = cv2.imread('/content/images.jpg')\n",
        "\n",
        "# Definir la nueva anchura y altura\n",
        "new_width, new_height = 300, 200\n",
        "\n",
        "# Aplicar la escala a la imagen\n",
        "scaled = cv2.resize(image, (new_width, new_height))\n",
        "\n",
        "# Mostrar la imagen escalada\n",
        "cv2.imshow('Escalamiento', scaled)\n",
        "cv2.waitKey(0)\n",
        "cv2.destroyAllWindows()"
      ],
      "metadata": {
        "id": "1N3f_50rpemp"
      },
      "execution_count": null,
      "outputs": []
    },
    {
      "cell_type": "markdown",
      "source": [
        "## 3. Filtrado de imágenes\n",
        "  * Suavizado"
      ],
      "metadata": {
        "id": "QPFHRbyZqCA-"
      }
    },
    {
      "cell_type": "code",
      "source": [
        "import cv2\n",
        "\n",
        "# cargar la imagen\n",
        "image = cv2.imread('/content/images.jpg')\n",
        "\n",
        "# Aplicar el filtro Gaussiano para suavizar la imagen\n",
        "smoothed = cv2.GaussianBlur(image, (5, 5), 0)\n",
        "\n",
        "# Mostrar la imagen suavizada\n",
        "cv2.imshow('Suavizado', smoothed)\n",
        "cv2.waitKey(0)\n",
        "cv2.destroyAllWindows()"
      ],
      "metadata": {
        "id": "feF9c6qlqL__"
      },
      "execution_count": null,
      "outputs": []
    },
    {
      "cell_type": "markdown",
      "source": [
        "  * Realce"
      ],
      "metadata": {
        "id": "9X9HsXVWqkmA"
      }
    },
    {
      "cell_type": "code",
      "source": [
        "import cv2\n",
        "import numpy as np\n",
        "\n",
        "# Cargar la imagen\n",
        "image = cv2.imread('/content/images.jpg')\n",
        "\n",
        "# Definir el kernel para el filtro de afilado\n",
        "kernel = np.array([[-1, -1, -1],\n",
        "                  [-1,  9, -1],\n",
        "                  [-1, -1, -1]])\n",
        "\n",
        "# Aplicar el filtro de afilado para realizar los detalles\n",
        "sharpened = cv2.filter2D(image, -1, kernel)\n",
        "\n",
        "# Mostrar la imagen realzada\n",
        "cv2. imshow('Realce', sharpened)\n",
        "cv2.waitKey(0)"
      ],
      "metadata": {
        "id": "3icXsauwqp4P"
      },
      "execution_count": null,
      "outputs": []
    },
    {
      "cell_type": "markdown",
      "source": [
        "  * Detección de Bordes"
      ],
      "metadata": {
        "id": "J3OrzjyasY5h"
      }
    },
    {
      "cell_type": "code",
      "source": [
        "import cv2\n",
        "\n",
        "# Cargar la imagen en escala de grises\n",
        "image = cv2.imread('/content/images.jpg', cv2.IMREAD_REDUCED_GRAYSCALE)\n",
        "\n",
        "# Aplicar el operador Sobel para detectar bordes\n",
        "sobelx = cv2.Sobel(image, cv2.CV_64F, 1, 0, ksize=5)\n",
        "sobely = cv2.Sobel(image, cv2.CV_64F, 0, 1, ksize=5)\n",
        "\n",
        "# Combinar las respuestas en magnitud\n",
        "edges = cv2.magnitude(sobelx, sobely)\n",
        "\n",
        "# Normalizar los valores para mostrar la imagen correctamente\n",
        "edges = cv2.normalized(edges, None, 0, 255, cv2.NORM_MINMAX, dtype=cv2.CV_8U)\n",
        "\n",
        "# Mostrar la imagen con bordes detectados\n",
        "cv2.imshow('Detección de Bordes', edges)\n",
        "cv2.waitKey(0)\n",
        "cv2.destroyAllWindows()"
      ],
      "metadata": {
        "id": "s_5N7WJ-scpW",
        "colab": {
          "base_uri": "https://localhost:8080/",
          "height": 211
        },
        "outputId": "c522f9a6-a4c3-4813-8b34-bf06e8338902"
      },
      "execution_count": 8,
      "outputs": [
        {
          "output_type": "error",
          "ename": "AttributeError",
          "evalue": "module 'cv2' has no attribute 'IMREAD_REDUCED_GRAYSCALE'",
          "traceback": [
            "\u001b[0;31m---------------------------------------------------------------------------\u001b[0m",
            "\u001b[0;31mAttributeError\u001b[0m                            Traceback (most recent call last)",
            "\u001b[0;32m<ipython-input-8-8d1d4acd7b9f>\u001b[0m in \u001b[0;36m<cell line: 4>\u001b[0;34m()\u001b[0m\n\u001b[1;32m      2\u001b[0m \u001b[0;34m\u001b[0m\u001b[0m\n\u001b[1;32m      3\u001b[0m \u001b[0;31m# Cargar la imagen en escala de grises\u001b[0m\u001b[0;34m\u001b[0m\u001b[0;34m\u001b[0m\u001b[0m\n\u001b[0;32m----> 4\u001b[0;31m \u001b[0mimage\u001b[0m \u001b[0;34m=\u001b[0m \u001b[0mcv2\u001b[0m\u001b[0;34m.\u001b[0m\u001b[0mimread\u001b[0m\u001b[0;34m(\u001b[0m\u001b[0;34m'/content/images.jpg'\u001b[0m\u001b[0;34m,\u001b[0m \u001b[0mcv2\u001b[0m\u001b[0;34m.\u001b[0m\u001b[0mIMREAD_REDUCED_GRAYSCALE\u001b[0m\u001b[0;34m)\u001b[0m\u001b[0;34m\u001b[0m\u001b[0;34m\u001b[0m\u001b[0m\n\u001b[0m\u001b[1;32m      5\u001b[0m \u001b[0;34m\u001b[0m\u001b[0m\n\u001b[1;32m      6\u001b[0m \u001b[0;31m# Aplicar el operador Sobel para detectar bordes\u001b[0m\u001b[0;34m\u001b[0m\u001b[0;34m\u001b[0m\u001b[0m\n",
            "\u001b[0;31mAttributeError\u001b[0m: module 'cv2' has no attribute 'IMREAD_REDUCED_GRAYSCALE'"
          ]
        }
      ]
    }
  ]
}